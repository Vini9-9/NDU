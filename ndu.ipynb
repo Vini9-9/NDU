{
 "cells": [
  {
   "cell_type": "markdown",
   "metadata": {
    "id": "7J3RNHzS0MNT"
   },
   "source": [
    "# Tabelas"
   ]
  },
  {
   "cell_type": "code",
   "execution_count": null,
   "metadata": {
    "colab": {
     "base_uri": "https://localhost:8080/"
    },
    "id": "pENkeoYf0AYz",
    "outputId": "a00fecdb-6aef-425f-9f56-e6f9be1237a2"
   },
   "outputs": [],
   "source": [
    "pip install tabula-py"
   ]
  },
  {
   "cell_type": "code",
   "execution_count": null,
   "metadata": {},
   "outputs": [],
   "source": [
    "import tabula\n",
    "import pandas as pd\n",
    "from flask import jsonify\n",
    "import uuid\n",
    "def generate_game_id():\n",
    "    return str(uuid.uuid4())"
   ]
  },
  {
   "cell_type": "code",
   "execution_count": null,
   "metadata": {},
   "outputs": [],
   "source": [
    "import csv\n",
    "import json\n",
    "\n",
    "def create_json(data, json_file):\n",
    "    with open(json_file, 'w', encoding='utf-8') as file:  # Certifique-se de especificar a codificação correta\n",
    "        json.dump(data, file, indent=4, ensure_ascii=False)  # Especifica ensure_ascii=False para lidar com acentos\n",
    "    \n",
    "    print('criado JSON em ' + json_file)\n",
    "\n",
    "def csv_to_json(csv_file, json_file):\n",
    "    \"\"\"\n",
    "    Converte um arquivo CSV em um arquivo JSON.\n",
    "\n",
    "    :param csv_file: Caminho para o arquivo CSV.\n",
    "    :param json_file: Caminho para o arquivo JSON de saída.\n",
    "    \"\"\"\n",
    "    # Lista para armazenar os dados do CSV\n",
    "    data = []\n",
    "\n",
    "    # Lendo o arquivo CSV e populando a lista de dados\n",
    "    with open(csv_file, 'r', encoding='utf-8') as file:  # Certifique-se de especificar a codificação correta\n",
    "        csv_reader = csv.DictReader(file)\n",
    "        for row in csv_reader:\n",
    "            data.append(row)\n",
    "\n",
    "    # Escrevendo os dados em um arquivo JSON\n",
    "    create_json(data, json_file)"
   ]
  },
  {
   "cell_type": "code",
   "execution_count": null,
   "metadata": {},
   "outputs": [],
   "source": [
    "def create_games_files(df_games, filepath):\n",
    "    csv_file = filepath +'/games.csv'\n",
    "    json_file = filepath +'/games.json'\n",
    "    df_games.to_csv(csv_file, index=False)\n",
    "    csv_to_json(csv_file, json_file)"
   ]
  },
  {
   "cell_type": "markdown",
   "metadata": {},
   "source": [
    "# Criando tabela dos grupos"
   ]
  },
  {
   "cell_type": "code",
   "execution_count": null,
   "metadata": {},
   "outputs": [],
   "source": [
    "def create_zero_ranking_group(table_groups, filepath):\n",
    "    teams_groupA = table_groups['Grupo A'].tolist()\n",
    "    teams_groupB = table_groups['Grupo B'].tolist()\n",
    "    # Criar DataFrames vazios com as colunas necessárias\n",
    "    columns = ['Time', 'Pontos', 'Jogos', 'V', 'E', 'D', 'Gols_Pro', 'Gols_Contra', 'Saldo']\n",
    "    df_groupA = pd.DataFrame(columns=columns)\n",
    "    df_groupB = pd.DataFrame(columns=columns)\n",
    "\n",
    "    # Adicionar nomes dos grupos\n",
    "    df_groupA['Time'] = teams_groupA\n",
    "    df_groupB['Time'] = teams_groupB\n",
    "\n",
    "    # Inicializar outras colunas com zeros\n",
    "    for col in columns[1:]:\n",
    "        df_groupA[col] = 0\n",
    "        df_groupB[col] = 0\n",
    "\n",
    "    # Define o tipo de dados para as colunas\n",
    "    dtypes = {'Pontos': int, 'Jogos': int, 'V': int, 'E': int, 'D': int, 'Gols_Pro': int, 'Gols_Contra': int, 'Saldo': int}\n",
    "    df_groupA = df_groupA.astype(dtypes)\n",
    "    df_groupB = df_groupB.astype(dtypes)\n",
    "    df_groupA['ID'] = [generate_game_id() for _ in range(len(df_groupA))]\n",
    "    df_groupB['ID'] = [generate_game_id() for _ in range(len(df_groupB))]\n",
    "    \n",
    "    df_groupA.to_csv(filepath + '/ranking_A.csv', index=False)\n",
    "    df_groupB.to_csv(filepath  + '/ranking_B.csv', index=False)\n",
    "    \n",
    "    csv_to_json(filepath  + '/ranking_A.csv', filepath + '/ranking_A.json')\n",
    "    csv_to_json(filepath + '/ranking_B.csv', filepath + '/ranking_B.json')\n",
    "\n",
    "    return df_groupA, df_groupB"
   ]
  },
  {
   "cell_type": "markdown",
   "metadata": {
    "id": "77Y5rN01dORi"
   },
   "source": [
    "# Formatando as tabelas dos grupos"
   ]
  },
  {
   "cell_type": "code",
   "execution_count": null,
   "metadata": {
    "colab": {
     "base_uri": "https://localhost:8080/"
    },
    "id": "vjq3JvA1dNkv",
    "outputId": "f970696d-829e-48f7-d3b9-8ecd45fdabf6"
   },
   "outputs": [],
   "source": [
    "def format_table_group(tb_groupA, tb_groupB):\n",
    "    df_groupA_base = pd.DataFrame(tb_groupA)\n",
    "    df_groupB_base = pd.DataFrame(tb_groupB)\n",
    "\n",
    "    # Atualizando nome das colunas:\n",
    "    novos_nomes_colunas = ['Col.', 'Atléticas', 'Pontos', 'Jogos', 'V', 'E', 'D', 'Gols Pró', 'Gols Contra', 'Saldo']\n",
    "    df_groupA_base.columns = novos_nomes_colunas\n",
    "    df_groupB_base.columns = novos_nomes_colunas\n",
    "\n",
    "\n",
    "    # Removendo a primeira coluna\n",
    "    df_groupA = df_groupA_base.drop(columns=['Col.'])\n",
    "    df_groupB = df_groupB_base.drop(columns=['Col.'])\n",
    "\n",
    "    # Removendo as duas primeiras linhas (antiga coluna)\n",
    "    df_groupA.drop([0, 1], inplace=True)\n",
    "    df_groupB.drop([0, 1], inplace=True)\n",
    "\n",
    "\n",
    "    # Converter os dados das colunas para o tipo int\n",
    "    colunas_para_converter = ['Pontos', 'Jogos', 'V', 'E', 'D', 'Gols Pró', 'Gols Contra', 'Saldo']\n",
    "    df_groupA[colunas_para_converter] = df_groupA[colunas_para_converter].astype(int)\n",
    "    df_groupB[colunas_para_converter] = df_groupB[colunas_para_converter].astype(int)\n",
    "\n",
    "\n",
    "    print(\"Grupo A:\")\n",
    "    print(df_groupA)\n",
    "    print(\"#########################################################################\")\n",
    "    print(\"Grupo B:\")\n",
    "    print(df_groupB)"
   ]
  },
  {
   "cell_type": "markdown",
   "metadata": {
    "id": "VzHZEHUXFzIq"
   },
   "source": [
    "# Formatando tabela de jogos"
   ]
  },
  {
   "cell_type": "code",
   "execution_count": null,
   "metadata": {
    "colab": {
     "base_uri": "https://localhost:8080/",
     "height": 1000
    },
    "id": "42bbCBI2Fyfy",
    "outputId": "587709b4-7276-40ed-a043-cf48b73f5335"
   },
   "outputs": [],
   "source": [
    "def generate_table_games(tb_games):\n",
    "    df_games = pd.DataFrame(tb_games)\n",
    "    if df_games['DIA'].isna().all():\n",
    "        df_games['DIA'] = ''\n",
    "    else:\n",
    "        # Limpar os espaços extras e formatar a coluna 'DIA'\n",
    "        df_games['DIA'] = df_games['DIA'].str.replace(' ', '', regex=False)\n",
    "        df_games['DIA'] = pd.to_datetime(df_games['DIA'] + '/' + pd.to_datetime('now', utc=True).strftime('%Y'), format='%d/%m/%Y', errors='coerce')\n",
    "\n",
    "    # Limpar os espaços extras e corrigir a formatação dos placares\n",
    "    df_games['PLACAR'] = df_games['PLACAR'].str.replace(' ', '', regex=True)\n",
    "    df_games[['GOLS_MANDANTE', 'GOLS_VISITANTE']] = df_games['PLACAR'].str.split('X', expand=True)\n",
    "    df_games['SIMULADOR'] = False\n",
    "    df_games.rename(columns={'HORÁRIO': 'HORARIO'}, inplace=True)\n",
    "    df_games.rename(columns={'EQUIPE Mandante': 'Mandante'}, inplace=True)\n",
    "    df_games.rename(columns={'EQUIPE Visitante': 'Visitante'}, inplace=True)\n",
    "    \n",
    "    print(df_games)\n",
    "    return df_games"
   ]
  },
  {
   "cell_type": "markdown",
   "metadata": {
    "id": "nietgFsS-4OA"
   },
   "source": [
    "# Jogos por time"
   ]
  },
  {
   "cell_type": "code",
   "execution_count": null,
   "metadata": {
    "id": "fPtGXcfe_Tpx"
   },
   "outputs": [],
   "source": [
    "def listar_jogos_por_time(df_games, team_surname):\n",
    "  condition_home = df_games['EQUIPE Mandante'].str.contains(team_surname)\n",
    "  condition_away = df_games['EQUIPE Visitante'].str.contains(team_surname)\n",
    "  games_by_team = df_games[condition_home | condition_away]\n",
    "  return games_by_team\n",
    "\n",
    "def listar_confrontos(df_games, teamOne, teamTwo):\n",
    "    # Filtrar os jogos onde a equipe é a mandante ou visitante\n",
    "    condition_home = df_games['EQUIPE Mandante'].str.contains(teamOne)\n",
    "    condition_away = df_games['EQUIPE Visitante'].str.contains(teamOne)\n",
    "\n",
    "    # Combinar as condições usando o operador lógico OR (|)\n",
    "    games_teamOne = df_games[condition_home | condition_away]\n",
    "\n",
    "    # Filtrar os jogos onde a outra equipe é a visitante\n",
    "    games_between_home = games_teamOne[games_teamOne['EQUIPE Mandante'].str.contains(teamTwo)]\n",
    "    if games_between_home.empty == False:\n",
    "      return games_between_home\n",
    "    else:\n",
    "      return games_teamOne[games_teamOne['EQUIPE Visitante'].str.contains(teamTwo)]"
   ]
  },
  {
   "cell_type": "markdown",
   "metadata": {
    "id": "EIjtywrbF47c"
   },
   "source": [
    "# Confronto direto"
   ]
  },
  {
   "cell_type": "code",
   "execution_count": null,
   "metadata": {
    "id": "BtEj5yjg-m2C"
   },
   "outputs": [],
   "source": [
    "def update_confronto_direto(winner_team, loser_team, draw, confrontos_diretos):\n",
    "   if draw:\n",
    "      resultado = 'E'\n",
    "   else:\n",
    "      resultado = winner_team\n",
    "\n",
    "  # Registrar o resultado no dicionário\n",
    "   confrontos_diretos.setdefault(winner_team, {}).setdefault(loser_team, resultado)\n",
    "   confrontos_diretos.setdefault(loser_team, {}).setdefault(winner_team, resultado)\n",
    "   return confrontos_diretos\n",
    "\n",
    "def remover_confronto_direto(winner_team, loser_team, confrontos_diretos):\n",
    "  # Registrar o resultado no dicionário\n",
    "   confrontos_diretos.setdefault(winner_team, {}).setdefault(loser_team, '')\n",
    "   confrontos_diretos.setdefault(loser_team, {}).setdefault(winner_team, '')\n",
    "   return confrontos_diretos\n",
    "\n",
    "def gerar_confronto_direto(df_games, filepath):\n",
    "  confrontos_diretos = {}\n",
    "\n",
    "  # Iterar sobre os jogos e registrar os resultados dos confrontos diretos\n",
    "  for _, jogo in df_games.iterrows():\n",
    "      equipe_mandante = jogo['Mandante']\n",
    "      equipe_visitante = jogo['Visitante']\n",
    "      placar_mandante = jogo['GOLS_MANDANTE']\n",
    "      placar_visitante = jogo['GOLS_VISITANTE']\n",
    "\n",
    "      resultado = ''\n",
    "\n",
    "      if placar_mandante > placar_visitante:\n",
    "          resultado = equipe_mandante\n",
    "      elif placar_mandante < placar_visitante:\n",
    "          resultado = equipe_visitante\n",
    "      else:\n",
    "          resultado = 'E'\n",
    "\n",
    "      # Registrar o resultado no dicionário\n",
    "      confrontos_diretos.setdefault(equipe_mandante, {}).setdefault(equipe_visitante, resultado)\n",
    "      confrontos_diretos.setdefault(equipe_visitante, {}).setdefault(equipe_mandante, resultado)\n",
    "\n",
    "  create_json(confrontos_diretos, filepath + '/confrontation.json')\n",
    "\n",
    "  return confrontos_diretos\n",
    "\n",
    "def confrontos_to_df(confrontos_diretos):\n",
    "  # Criar um DataFrame a partir dos resultados dos confrontos diretos\n",
    "  df_confrontos_diretos = pd.DataFrame(confrontos_diretos).T.fillna('').sort_index()\n",
    "  df_confrontos_diretos.index.name = 'Equipes'\n",
    "  return df_confrontos_diretos"
   ]
  },
  {
   "cell_type": "markdown",
   "metadata": {
    "id": "tushaRPtf0Og"
   },
   "source": [
    "# Filtro com classificados"
   ]
  },
  {
   "cell_type": "code",
   "execution_count": null,
   "metadata": {
    "id": "Gr30VONE1bZl"
   },
   "outputs": [],
   "source": [
    "def atualizar_classificacao(group, df_confrontos_diretos):\n",
    "  if group == 'A':\n",
    "    df_group = df_groupA\n",
    "  elif group == 'B':\n",
    "    df_group = df_groupB\n",
    "\n",
    "  linhas_pontos_iguais = df_group[df_group.duplicated(subset='Pontos', keep=False)]\n",
    "\n",
    "  # Obter apenas os nomes das atléticas\n",
    "  atléticas_pontos_iguais = linhas_pontos_iguais['Atléticas'].tolist()\n",
    "  if len(atléticas_pontos_iguais) == 2:\n",
    "    team_ahead = df_confrontos_diretos.loc[atléticas_pontos_iguais[0], atléticas_pontos_iguais[1]]\n",
    "    atléticas_pontos_iguais.remove(team_ahead)\n",
    "\n",
    "    # Nome da atlética que você deseja trocar\n",
    "    team_behind = atléticas_pontos_iguais[0]\n",
    "\n",
    "    # Encontrar a posição da atlética no DataFrame\n",
    "    position_ahead = df_group.index[df_group['Atléticas'] == team_ahead].tolist()[0]\n",
    "    position_behind = df_group.index[df_group['Atléticas'] == team_behind].tolist()[0]\n",
    "\n",
    "    # Trocar os valores entre as linhas diretamente\n",
    "    df_group.loc[position_ahead], df_group.loc[position_behind] = df_group.loc[position_behind].copy(), df_group.loc[position_ahead].copy()\n",
    "\n",
    "  print(f\"Classificação grupo {group} atualizada com confrontos diretos:\")\n",
    "  print(df_group.sort_values(by='Pontos', ascending=False))"
   ]
  },
  {
   "cell_type": "markdown",
   "metadata": {
    "id": "oNeCdmBy1TNc"
   },
   "source": [
    "# Simulação"
   ]
  },
  {
   "cell_type": "code",
   "execution_count": null,
   "metadata": {
    "id": "UUTtgyNd1Rpd"
   },
   "outputs": [],
   "source": [
    "def atualizar_df_games(new_game_data):\n",
    "    global df_games\n",
    "    df_games = pd.concat([df_games, pd.DataFrame([new_game_data])], ignore_index=True)\n",
    "\n",
    "def remover_df_games(matches_to_remove, simulador=True):\n",
    "    # Obter os índices dos jogos a serem removidos\n",
    "    indices_to_remove = matches_to_remove.index\n",
    "\n",
    "    # Remover os jogos do DataFrame original\n",
    "    df_games.drop(indices_to_remove, inplace=True)\n",
    "\n",
    "# Simular o resultado do jogo (exemplo simples)\n",
    "def simular_jogo(group, home_team, home_goal, away_team, away_goal, confrontos_diretos):\n",
    "    \n",
    "    if listar_confrontos(home_team, away_team).empty == False:\n",
    "        print(\"Não posso substituir um jogo que já existe\")\n",
    "    else:\n",
    "        game = {\n",
    "            'GRUPO': group,\n",
    "            'EQUIPE Mandante': home_team,\n",
    "            'GOLS_MANDANTE': home_goal,\n",
    "            'EQUIPE Visitante': away_team,\n",
    "            'GOLS_VISITANTE': away_goal,\n",
    "            'PLACAR': str(home_goal) + 'x' + str(away_goal),\n",
    "            'SIMULADOR': 1\n",
    "        }\n",
    "\n",
    "        # Definir df por grupo\n",
    "        if group == 'A':\n",
    "          df_group = df_groupA\n",
    "        elif group == 'B':\n",
    "          df_group = df_groupB\n",
    "\n",
    "        condition_home = df_group['Atléticas'] == home_team\n",
    "        condition_away = df_group['Atléticas'] == away_team\n",
    "\n",
    "    # Atualizar o número de jogos\n",
    "        df_group.loc[condition_home, 'Jogos'] += 1\n",
    "        df_group.loc[condition_away, 'Jogos'] += 1\n",
    "\n",
    "    # Atualizar os gols\n",
    "        df_group.loc[condition_home, 'Gols Pró'] += home_goal\n",
    "        df_group.loc[condition_home, 'Gols Contra'] += away_goal\n",
    "\n",
    "        df_group.loc[condition_away, 'Gols Pró'] += away_goal\n",
    "        df_group.loc[condition_away, 'Gols Contra'] += home_goal\n",
    "\n",
    "        df_group.loc[condition_home, 'Saldo'] += home_goal - away_goal\n",
    "        df_group.loc[condition_away, 'Saldo'] += away_goal - home_goal\n",
    "\n",
    "    # Atualizar os pontos\n",
    "        if home_goal == away_goal:\n",
    "            df_group.loc[condition_home, 'Pontos'] += 1\n",
    "            df_group.loc[condition_away, 'Pontos'] += 1\n",
    "            df_group.loc[condition_home, 'E'] += 1\n",
    "            df_group.loc[condition_away, 'E'] += 1\n",
    "            update_confronto_direto(away_team, home_team, True, confrontos_diretos)\n",
    "        elif home_goal > away_goal:\n",
    "            df_group.loc[condition_home, 'Pontos'] += 3\n",
    "            df_group.loc[condition_home, 'V'] += 1\n",
    "            df_group.loc[condition_away, 'D'] += 1\n",
    "            update_confronto_direto(home_team, away_team, False, confrontos_diretos)\n",
    "        else:\n",
    "            df_group.loc[condition_away, 'Pontos'] += 3\n",
    "            df_group.loc[condition_away, 'V'] += 1\n",
    "            df_group.loc[condition_home, 'D'] += 1\n",
    "            update_confronto_direto(away_team, home_team, False, confrontos_diretos)\n",
    "\n",
    "        atualizar_df_games(game)\n",
    "        atualizar_classificacao(group, confrontos_to_df(confrontos_diretos))"
   ]
  },
  {
   "cell_type": "code",
   "execution_count": null,
   "metadata": {
    "id": "xvBzVySr8v-m"
   },
   "outputs": [],
   "source": [
    "def remover_jogo(home_team, away_team, confrontos_diretos):\n",
    "\n",
    "    df_confronto = listar_confrontos(home_team, away_team)\n",
    "#   Se for jogo simulado  \n",
    "    if df_confronto['SIMULADOR'].tolist()[0]:\n",
    "        group = df_confronto['GRUPO'].values[0]\n",
    "\n",
    "        # Definir df por grupo\n",
    "        if group == 'A':\n",
    "            df_group = df_groupA\n",
    "        elif group == 'B':\n",
    "            df_group = df_groupB\n",
    "\n",
    "        home_team = df_confronto['EQUIPE Mandante'].tolist()[0]\n",
    "        away_team = df_confronto['EQUIPE Visitante'].tolist()[0]\n",
    "        home_goal = int(df_confronto['GOLS_MANDANTE'].tolist()[0])\n",
    "        away_goal = int(df_confronto['GOLS_VISITANTE'].tolist()[0])\n",
    "\n",
    "        condition_home = df_group['Atléticas'] == home_team\n",
    "        condition_away = df_group['Atléticas'] == away_team\n",
    "\n",
    "    # Atualizar o número de jogos\n",
    "        df_group.loc[condition_home, 'Jogos'] -= 1\n",
    "        df_group.loc[condition_away, 'Jogos'] -= 1\n",
    "\n",
    "    # Atualizar os gols\n",
    "        df_group.loc[condition_home, 'Gols Pró'] -= home_goal\n",
    "        df_group.loc[condition_home, 'Gols Contra'] -= away_goal\n",
    "\n",
    "        df_group.loc[condition_away, 'Gols Pró'] -= away_goal\n",
    "        df_group.loc[condition_away, 'Gols Contra'] -= home_goal\n",
    "\n",
    "        df_group.loc[condition_home, 'Saldo'] += home_goal - away_goal\n",
    "        df_group.loc[condition_away, 'Saldo'] += away_goal - home_goal\n",
    "\n",
    "    # Atualizar os pontos\n",
    "        if home_goal == away_goal:\n",
    "            df_group.loc[condition_home, 'Pontos'] -= 1\n",
    "            df_group.loc[condition_away, 'Pontos'] -= 1\n",
    "            df_group.loc[condition_home, 'E'] -= 1\n",
    "            df_group.loc[condition_away, 'E'] -= 1\n",
    "        elif home_goal > away_goal:\n",
    "            df_group.loc[condition_home, 'Pontos'] -= 3\n",
    "            df_group.loc[condition_home, 'V'] += 1\n",
    "            df_group.loc[condition_away, 'D'] += 1\n",
    "        else:\n",
    "            df_group.loc[condition_away, 'Pontos'] -= 3\n",
    "            df_group.loc[condition_away, 'V'] += 1\n",
    "            df_group.loc[condition_home, 'D'] += 1\n",
    "\n",
    "        remover_df_games(df_confronto)\n",
    "        remover_confronto_direto(home_team, away_team, confrontos_diretos)\n",
    "        atualizar_classificacao(group, confrontos_to_df(confrontos_diretos))\n",
    "    else:\n",
    "        print('Nenhum jogo simulado foi encontrado')"
   ]
  },
  {
   "cell_type": "code",
   "execution_count": null,
   "metadata": {},
   "outputs": [],
   "source": [
    "import uuid\n",
    "\n",
    "# Função para gerar IDs\n",
    "def generate_game_id():\n",
    "    return str(uuid.uuid4())\n",
    "\n",
    "df_games['ID'] = [generate_game_id() for _ in range(len(df_games))]\n",
    "df_games.rename(columns={'HORÁRIO': 'HORARIO'}, inplace=True)\n",
    "df_games.rename(columns={'EQUIPE Mandante': 'Mandante'}, inplace=True)\n",
    "df_games.rename(columns={'EQUIPE Visitante': 'Visitante'}, inplace=True)"
   ]
  },
  {
   "cell_type": "code",
   "execution_count": null,
   "metadata": {},
   "outputs": [],
   "source": [
    "df_games.to_csv('files/games.csv', index=False)"
   ]
  },
  {
   "cell_type": "code",
   "execution_count": null,
   "metadata": {},
   "outputs": [],
   "source": [
    "csv_file = 'files/FM.csv'\n",
    "json_file = 'files/games.json'\n",
    "csv_to_json(csv_file, json_file)"
   ]
  },
  {
   "cell_type": "markdown",
   "metadata": {},
   "source": [
    "# Execução"
   ]
  },
  {
   "cell_type": "code",
   "execution_count": null,
   "metadata": {},
   "outputs": [],
   "source": [
    "dic_modalities_page = {\n",
    "    \"FF/A\" : \"42-43\",\n",
    "    \"FF/B\" : \"46-47\",\n",
    "    \"FF/C\" : \"50-51\",\n",
    "    \"FF/D\" : \"54-55\",\n",
    "    \"FF/E\" : \"58-59\",\n",
    "    \"FM/A\" : \"62-63\",\n",
    "    \"FM/B\" : \"66-67\",\n",
    "    \"FM/C\" : \"70-71\",\n",
    "    \"FM/D\" : \"74-75\",\n",
    "    \"FM/E\" : \"78-79\",\n",
    "    \"FM/F\" : \"82-83\",\n",
    "}"
   ]
  },
  {
   "cell_type": "code",
   "execution_count": null,
   "metadata": {},
   "outputs": [],
   "source": [
    "modality = 'FM/D'\n",
    "tables = tabula.read_pdf(\"files/Boletim.pdf\", pages=dic_modalities_page[modality])\n",
    "print(tables)\n",
    "tb_group = tables[0]\n",
    "tb_games = tables[1]"
   ]
  },
  {
   "cell_type": "markdown",
   "metadata": {},
   "source": [
    "## Zeradas"
   ]
  },
  {
   "cell_type": "code",
   "execution_count": null,
   "metadata": {},
   "outputs": [],
   "source": [
    "filepath = 'files/' + modality\n",
    "filepath_group = filepath + '/group'\n",
    "rankings = create_zero_ranking_group(tb_group, filepath_group)\n",
    "df_games = generate_table_games(tb_games)"
   ]
  },
  {
   "cell_type": "markdown",
   "metadata": {},
   "source": [
    "### Dicionário de correção"
   ]
  },
  {
   "cell_type": "code",
   "execution_count": null,
   "metadata": {
    "id": "XV5-QxsBgVcg"
   },
   "outputs": [],
   "source": [
    "locations = ['Palestra', 'Idalina', 'Pinheiros', 'SEMEF', 'GETA', 'EDA', 'CESPRO']\n",
    "correction_local = {\n",
    "    'Pale stra': 'Palestra',\n",
    "    'Idal ina': 'Idalina',\n",
    "    'SEM EF': 'SEMEF',\n",
    "}\n",
    "# Função de validação e correção\n",
    "def correct_local(local):\n",
    "    if local in locations:\n",
    "        return local\n",
    "    elif local in correction_local:\n",
    "        return correction_local[local]\n",
    "    else:\n",
    "        return local\n",
    "\n",
    "# Aplicar a função de validação e correção nas colunas 'EQUIPE Mandante' e 'EQUIPE Visitante'\n",
    "df_games['LOCAL'] = df_games['LOCAL'].apply(correct_local)\n",
    "print(df_games['LOCAL'].unique())"
   ]
  },
  {
   "cell_type": "code",
   "execution_count": null,
   "metadata": {
    "colab": {
     "base_uri": "https://localhost:8080/"
    },
    "id": "0HWawtno9Rrl",
    "outputId": "d65c59bd-04a0-47db-8092-ed669269ccde"
   },
   "outputs": [],
   "source": [
    "teams_groupA = tb_group['Grupo A'].tolist()\n",
    "teams_groupB = tb_group['Grupo B'].tolist()\n",
    "teams = teams_groupA + teams_groupB\n",
    "correction_teams = {\n",
    "    'ArquiteturaMackenzie': 'Arquitetura Mackenzie',\n",
    "    'Belas A rtes': 'Belas Artes',\n",
    "    'CAAP U FABC': 'CAAP UFABC',\n",
    "    'Comunica ção PUC': 'Comunicação PUC',\n",
    "    'Comunicaçã o Anhembi': 'Comunicação Anhembi',\n",
    "    'Comunicaçã o Mackenzie': 'Comunicação Mackenzie',\n",
    "    'Comunicaçã o Metodista': 'Comunicação Metodista',\n",
    "    'Direit o PUC': 'Direito PUC',\n",
    "    'Direit o USP': 'Direito USP',\n",
    "    'Direito M ackenzie': 'Direito Mackenzie',\n",
    "    'Direito S ã o Judas': 'Direito São Judas',\n",
    "    'Direito S ão Judas': 'Direito São Judas',\n",
    "    'Direito SãoBernardo': 'Direito São Bernardo',\n",
    "    'EACHUSP': 'EACH USP',\n",
    "    'Economia M ackenzie': 'Economia Mackenzie',\n",
    "    'Economia M ackenzie': 'Economia Mackenzie',\n",
    "    'Educação Fís i ca Anhembi': 'Educação Física Anhembi',\n",
    "    'Educação Fís i ca UNINOVE': 'Educação Física UNINOVE',\n",
    "    'Educação Fís ica Anhembi': 'Educação Física Anhembi',\n",
    "    'EngenhariaAnhembi': 'Engenharia Anhembi',\n",
    "    'EngenhariaMackenzie': 'Engenharia Mackenzie',\n",
    "    'EngenhariaSão Judas': 'Engenharia São Judas',\n",
    "    'ESP M': 'ESPM',\n",
    "    'Farmác ia USP': 'Farmácia USP',\n",
    "    'Fatec Sã o Paulo': 'Fatec São Paulo',\n",
    "    'FAUUSP': 'FAU USP',\n",
    "    'FE I': 'FEI',\n",
    "    'FEA P UC': 'FEA PUC',\n",
    "    'FEA U SP': 'FEA USP',\n",
    "    'FEC AP': 'FECAP',\n",
    "    'Federaldo ABC': 'Federal do ABC',\n",
    "    'FM U': 'FMU',\n",
    "    'GetúlioVargas': 'Getúlio Vargas',\n",
    "    'IBME C SP': 'IBMEC SP',\n",
    "    'INS P ER': 'INSPER',\n",
    "    'INSP ER': 'INSPER',\n",
    "    'IT A': 'ITA',\n",
    "    'LEP Mac kenzie': 'LEP Mackenzie',\n",
    "    'LEP MAC KENZIE': 'LEP MACKENZIE',\n",
    "    'Medici n a USP': 'Medicina USP',\n",
    "    'Medicin a Santos': 'Medicina Santos',\n",
    "    'Medicina PU C Campinas': 'Medicina PUC Campinas',\n",
    "    'Medicina S ã o Caetano': 'Medicina São Caetano',\n",
    "    'Medicina S anta Casa': 'Medicina Santa Casa',\n",
    "    'Medicina Sa nto Amaro': 'Medicina Santo Amaro',\n",
    "    'Medicina Sã o Bernardo': 'Medicina São Bernardo',\n",
    "    'Medicina Sã o Caetano': 'Medicina São Caetano',\n",
    "    'Medicina San  ta Marcelina': 'Medicina Santa Marcelina',\n",
    "    'Medicina San ta Marcelina': 'Medicina Santa Marcelina',\n",
    "    'Medicina Ta ubaté (DT)': 'Medicina Taubaté',\n",
    "    'Medicina U NICAMP': 'Medicina UNICAMP',\n",
    "    'MedicinaAnhembi': 'Medicina Anhembi',\n",
    "    'MedicinaBragança': 'Medicina Bragança',\n",
    "    'MedicinaEinstein': 'Medicina Einstein',\n",
    "    'MedicinaJundiaí': 'Medicina Jundiaí',\n",
    "    'MedicinaTaubaté': 'Medicina Taubaté',\n",
    "    'MedicinaUNICID': 'Medicina UNICID',\n",
    "    'MedicinaUNIMES': 'Medicina UNIMES',\n",
    "    'MedicinaZ Taubaté': 'Medicina Taubaté',\n",
    "    'Politécn ica USP': 'Politécnica USP',\n",
    "    'Psicologia  d a PUC SP': 'Psicologia da PUC SP',\n",
    "    'Psicologia d a PUC SP': 'Psicologia da PUC SP',\n",
    "    'SEN  AC': 'SENAC',\n",
    "    'SEN AC': 'SENAC',\n",
    "    'Sistema de Inf ormação USP': 'Sistema de Informação USP',\n",
    "    'UN IP': 'UNIP',\n",
    "    'UNIFESP D iadema': 'UNIFESP Diadema',\n",
    "    'Unifesp S ão Paulo': 'Unifesp São Paulo',\n",
    "    'UNIFESPOsasco': 'UNIFESP Osasco',\n",
    "    'US C S': 'USCS',\n",
    "    'US CS': 'USCS',\n",
    "    'Veteriná ria USP': 'Veterinária USP',\n",
    "}\n",
    "# Função de validação e correção\n",
    "def correct_team(equipe):\n",
    "    equipe_strip = equipe.strip().replace('  ', ' ')\n",
    "    if equipe_strip in teams:\n",
    "        return equipe_strip\n",
    "    elif equipe_strip in correction_teams:\n",
    "        return correction_teams[equipe_strip]\n",
    "    else:\n",
    "        return equipe_strip\n",
    "\n",
    "# Aplicar a função de validação e correção nas colunas 'EQUIPE Mandante' e 'EQUIPE Visitante'\n",
    "df_games['Mandante'] = df_games['Mandante'].apply(correct_team)\n",
    "df_games['Visitante'] = df_games['Visitante'].apply(correct_team)\n",
    "print(df_games['Mandante'].unique())\n",
    "print(df_games['Visitante'].unique())"
   ]
  },
  {
   "cell_type": "code",
   "execution_count": null,
   "metadata": {},
   "outputs": [],
   "source": [
    "create_games_files(df_games, filepath)\n",
    "gerar_confronto_direto(df_games, filepath)"
   ]
  },
  {
   "cell_type": "markdown",
   "metadata": {},
   "source": [
    "## Atualização"
   ]
  }
 ],
 "metadata": {
  "colab": {
   "provenance": []
  },
  "kernelspec": {
   "display_name": "Python 3 (ipykernel)",
   "language": "python",
   "name": "python3"
  },
  "language_info": {
   "codemirror_mode": {
    "name": "ipython",
    "version": 3
   },
   "file_extension": ".py",
   "mimetype": "text/x-python",
   "name": "python",
   "nbconvert_exporter": "python",
   "pygments_lexer": "ipython3",
   "version": "3.8.0"
  }
 },
 "nbformat": 4,
 "nbformat_minor": 1
}
