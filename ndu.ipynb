{
 "cells": [
  {
   "cell_type": "markdown",
   "metadata": {
    "id": "7J3RNHzS0MNT"
   },
   "source": [
    "# Tabelas"
   ]
  },
  {
   "cell_type": "code",
   "execution_count": null,
   "metadata": {
    "colab": {
     "base_uri": "https://localhost:8080/"
    },
    "id": "pENkeoYf0AYz",
    "outputId": "a00fecdb-6aef-425f-9f56-e6f9be1237a2"
   },
   "outputs": [],
   "source": [
    "pip install tabula-py"
   ]
  },
  {
   "cell_type": "code",
   "execution_count": null,
   "metadata": {
    "id": "7jHLWXto0RoM"
   },
   "outputs": [],
   "source": [
    "import tabula\n",
    "import pandas as pd\n",
    "tables = tabula.read_pdf(\"Boletim.pdf\", pages=\"70-71\")\n",
    "# print(tables)"
   ]
  },
  {
   "cell_type": "code",
   "execution_count": null,
   "metadata": {
    "colab": {
     "base_uri": "https://localhost:8080/"
    },
    "id": "JeTN9DlYw7ba",
    "outputId": "ded4ac97-4e81-477d-fea4-c2b0bc7d8cf6"
   },
   "outputs": [],
   "source": [
    "tb_groupA = tables[3]\n",
    "tb_groupB = tables[4]\n",
    "tb_games = pd.concat([tables[1], tables[2]])\n",
    "# print(\"Jogos:\")\n",
    "# print(tb_games)"
   ]
  },
  {
   "cell_type": "markdown",
   "metadata": {
    "id": "77Y5rN01dORi"
   },
   "source": [
    "# Formatando as tabelas dos grupos"
   ]
  },
  {
   "cell_type": "code",
   "execution_count": null,
   "metadata": {
    "colab": {
     "base_uri": "https://localhost:8080/"
    },
    "id": "vjq3JvA1dNkv",
    "outputId": "f970696d-829e-48f7-d3b9-8ecd45fdabf6"
   },
   "outputs": [],
   "source": [
    "df_groupA_base = pd.DataFrame(tb_groupA)\n",
    "df_groupB_base = pd.DataFrame(tb_groupB)\n",
    "\n",
    "# Atualizando nome das colunas:\n",
    "novos_nomes_colunas = ['Col.', 'Atléticas', 'Pontos', 'Jogos', 'V', 'E', 'D', 'Gols Pró', 'Gols Contra', 'Saldo']\n",
    "df_groupA_base.columns = novos_nomes_colunas\n",
    "df_groupB_base.columns = novos_nomes_colunas\n",
    "\n",
    "\n",
    "# Removendo a primeira coluna\n",
    "df_groupA = df_groupA_base.drop(columns=['Col.'])\n",
    "df_groupB = df_groupB_base.drop(columns=['Col.'])\n",
    "\n",
    "# Removendo as duas primeiras linhas (antiga coluna)\n",
    "df_groupA.drop([0, 1], inplace=True)\n",
    "df_groupB.drop([0, 1], inplace=True)\n",
    "\n",
    "\n",
    "# Converter os dados das colunas para o tipo int\n",
    "colunas_para_converter = ['Pontos', 'Jogos', 'V', 'E', 'D', 'Gols Pró', 'Gols Contra', 'Saldo']\n",
    "df_groupA[colunas_para_converter] = df_groupA[colunas_para_converter].astype(int)\n",
    "df_groupB[colunas_para_converter] = df_groupB[colunas_para_converter].astype(int)\n",
    "\n",
    "\n",
    "print(\"Grupo A:\")\n",
    "print(df_groupA)\n",
    "print(\"#########################################################################\")\n",
    "print(\"Grupo B:\")\n",
    "print(df_groupB)"
   ]
  },
  {
   "cell_type": "markdown",
   "metadata": {
    "id": "VzHZEHUXFzIq"
   },
   "source": [
    "# Formatando tabela de jogos"
   ]
  },
  {
   "cell_type": "code",
   "execution_count": null,
   "metadata": {
    "colab": {
     "base_uri": "https://localhost:8080/",
     "height": 1000
    },
    "id": "42bbCBI2Fyfy",
    "outputId": "587709b4-7276-40ed-a043-cf48b73f5335"
   },
   "outputs": [],
   "source": [
    "df_games = pd.DataFrame(tb_games)\n",
    "\n",
    "# Limpar os espaços extras e formatar a coluna 'DIA'\n",
    "df_games['DIA'] = df_games['DIA'].str.replace(' ', '', regex=False)\n",
    "df_games['DIA'] = pd.to_datetime(df_games['DIA'] + '/' + pd.to_datetime('now', utc=True).strftime('%Y'), format='%d/%m/%Y', errors='coerce')\n",
    "\n",
    "# Limpar os espaços extras e corrigir a formatação dos placares\n",
    "df_games['PLACAR'] = df_games['PLACAR'].str.replace(' ', '', regex=True)\n",
    "df_games[['GOLS_MANDANTE', 'GOLS_VISITANTE']] = df_games['PLACAR'].str.split('X', expand=True)\n",
    "df_games['SIMULADOR'] = False\n",
    "\n",
    "df_games"
   ]
  },
  {
   "cell_type": "markdown",
   "metadata": {
    "id": "UYT8lgmTM9aA"
   },
   "source": [
    "## Dicionário de correção"
   ]
  },
  {
   "cell_type": "markdown",
   "metadata": {
    "id": "6MXleGAqfkK1"
   },
   "source": [
    "### Locais"
   ]
  },
  {
   "cell_type": "code",
   "execution_count": null,
   "metadata": {
    "id": "XV5-QxsBgVcg"
   },
   "outputs": [],
   "source": [
    "locations = ['Palestra', 'Idalina', 'Pinheiros', 'SEMEF', 'GETA', 'EDA', 'CESPRO']\n",
    "correction_local = {\n",
    "    'Pale stra': 'Palestra',\n",
    "    'Idal ina': 'Idalina',\n",
    "    'SEM EF': 'SEMEF',\n",
    "}\n",
    "# Função de validação e correção\n",
    "def correct_local(local):\n",
    "    if local in locations:\n",
    "        return local\n",
    "    elif local in correction_local:\n",
    "        return correction_local[local]\n",
    "    else:\n",
    "        return local\n",
    "\n",
    "# Aplicar a função de validação e correção nas colunas 'EQUIPE Mandante' e 'EQUIPE Visitante'\n",
    "df_games['LOCAL'] = df_games['LOCAL'].apply(correct_local)"
   ]
  },
  {
   "cell_type": "code",
   "execution_count": null,
   "metadata": {
    "id": "N-qiB9yBdeBH"
   },
   "outputs": [],
   "source": []
  },
  {
   "cell_type": "code",
   "execution_count": null,
   "metadata": {
    "colab": {
     "base_uri": "https://localhost:8080/",
     "height": 1000
    },
    "id": "am6KYt9LOaha",
    "outputId": "829039b0-ee22-4a16-82ee-d8620ffc3b79"
   },
   "outputs": [],
   "source": []
  },
  {
   "cell_type": "markdown",
   "metadata": {
    "id": "-5u3GceO9Map"
   },
   "source": [
    "### Atléticas participantes"
   ]
  },
  {
   "cell_type": "code",
   "execution_count": null,
   "metadata": {
    "colab": {
     "base_uri": "https://localhost:8080/"
    },
    "id": "0HWawtno9Rrl",
    "outputId": "d65c59bd-04a0-47db-8092-ed669269ccde"
   },
   "outputs": [],
   "source": [
    "teams_groupA = df_groupA['Atléticas'].tolist()\n",
    "teams_groupB = df_groupB['Atléticas'].tolist()\n",
    "teams = teams_groupA + teams_groupB\n",
    "correction_teams = {\n",
    "    'ESP M': 'ESPM',\n",
    "    'MedicinaZ Taubaté': 'Medicina Taubaté',\n",
    "    'Economia M ackenzie': 'Economia Mackenzie',\n",
    "    'Economia M ackenzie': 'Economia Mackenzie',\n",
    "    'FE I': 'FEI',\n",
    "    'INSP ER': 'INSPER',\n",
    "    'FEA U SP': 'FEA USP',\n",
    "    'FEA P UC': 'FEA PUC',\n",
    "    'Federaldo ABC': 'Federal do ABC',\n",
    "    'FEC AP': 'FECAP',\n",
    "    'Medicina Ta ubaté (DT)': 'Medicina Taubaté'\n",
    "}\n",
    "# Função de validação e correção\n",
    "def correct_team(equipe):\n",
    "    equipe_strip = equipe.strip().replace('  ', ' ')\n",
    "    if equipe_strip in teams:\n",
    "        return equipe_strip\n",
    "    elif equipe_strip in correction_teams:\n",
    "        return correction_teams[equipe_strip]\n",
    "    else:\n",
    "        return equipe_strip\n",
    "\n",
    "# Aplicar a função de validação e correção nas colunas 'EQUIPE Mandante' e 'EQUIPE Visitante'\n",
    "df_games['EQUIPE Mandante'] = df_games['EQUIPE Mandante'].apply(correct_team)\n",
    "df_games['EQUIPE Visitante'] = df_games['EQUIPE Visitante'].apply(correct_team)"
   ]
  },
  {
   "cell_type": "code",
   "execution_count": null,
   "metadata": {
    "id": "-tz9CvnxcRAy"
   },
   "outputs": [],
   "source": [
    "\n",
    "# df_games"
   ]
  },
  {
   "cell_type": "code",
   "execution_count": null,
   "metadata": {
    "colab": {
     "base_uri": "https://localhost:8080/",
     "height": 1000
    },
    "id": "quCbztX1VS-B",
    "outputId": "cb8fdbf3-5e60-45ec-c2b1-9af26247eca5"
   },
   "outputs": [],
   "source": [
    "df_games"
   ]
  },
  {
   "cell_type": "markdown",
   "metadata": {
    "id": "cyKWkrUUTsqA"
   },
   "source": [
    "# Jogos por grupo"
   ]
  },
  {
   "cell_type": "code",
   "execution_count": null,
   "metadata": {
    "colab": {
     "base_uri": "https://localhost:8080/"
    },
    "id": "Vnfwl7_wEBAn",
    "outputId": "6bd1a002-5f71-43f0-b8ac-c1aabf46025d"
   },
   "outputs": [],
   "source": [
    "filter_gamesA = df_games['GRUPO'] == 'A'\n",
    "filter_gamesB = df_games['GRUPO'] == 'B'\n",
    "\n",
    "gamesA = df_games[filter_gamesA]\n",
    "gamesB = df_games[filter_gamesB]\n",
    "\n",
    "# Exibir o resultado\n",
    "print(gamesA)\n",
    "print(\"####################################################\")\n",
    "print(gamesB)"
   ]
  },
  {
   "cell_type": "markdown",
   "metadata": {
    "id": "nietgFsS-4OA"
   },
   "source": [
    "# Jogos por time"
   ]
  },
  {
   "cell_type": "code",
   "execution_count": null,
   "metadata": {
    "id": "fPtGXcfe_Tpx"
   },
   "outputs": [],
   "source": [
    "def listar_jogos_por_time(team_surname):\n",
    "  condition_home = df_games['EQUIPE Mandante'].str.contains(team_surname)\n",
    "  condition_away = df_games['EQUIPE Visitante'].str.contains(team_surname)\n",
    "  games_by_team = df_games[condition_home | condition_away]\n",
    "  return games_by_team\n",
    "\n",
    "def listar_confrontos(teamOne, teamTwo):\n",
    "    # Filtrar os jogos onde a equipe é a mandante ou visitante\n",
    "    condition_home = df_games['EQUIPE Mandante'].str.contains(teamOne)\n",
    "    condition_away = df_games['EQUIPE Visitante'].str.contains(teamOne)\n",
    "\n",
    "    # Combinar as condições usando o operador lógico OR (|)\n",
    "    games_teamOne = df_games[condition_home | condition_away]\n",
    "\n",
    "    # Filtrar os jogos onde a outra equipe é a visitante\n",
    "    games_between_home = games_teamOne[games_teamOne['EQUIPE Mandante'].str.contains(teamTwo)]\n",
    "    if games_between_home.empty == False:\n",
    "      return games_between_home\n",
    "    else:\n",
    "      return games_teamOne[games_teamOne['EQUIPE Visitante'].str.contains(teamTwo)]"
   ]
  },
  {
   "cell_type": "code",
   "execution_count": null,
   "metadata": {
    "id": "VNyvBWNJ_miu"
   },
   "outputs": [],
   "source": []
  },
  {
   "cell_type": "code",
   "execution_count": null,
   "metadata": {
    "id": "_3OXq_L-AEOT"
   },
   "outputs": [],
   "source": [
    "# listar_jogos_por_time('FEA PUC')\n",
    "# listar_jogos_por_time('Federal do ABC')\n",
    "# listar_confrontos('FEA PUC', 'Federal do ABC')"
   ]
  },
  {
   "cell_type": "markdown",
   "metadata": {
    "id": "BM4W_wJEBbp2"
   },
   "source": [
    "# Jogos por data"
   ]
  },
  {
   "cell_type": "code",
   "execution_count": null,
   "metadata": {
    "id": "QEmOheh__KWU"
   },
   "outputs": [],
   "source": [
    "def listar_jogos_por_data(game_date): #'2024-10-28'\n",
    "  condition_date = df_games['DIA'] == game_date\n",
    "  games_by_date = df_games[condition_date]\n",
    "  games_by_date"
   ]
  },
  {
   "cell_type": "markdown",
   "metadata": {
    "id": "EIjtywrbF47c"
   },
   "source": [
    "# Confronto direto"
   ]
  },
  {
   "cell_type": "code",
   "execution_count": null,
   "metadata": {
    "id": "PjbrX_n9Pf9x"
   },
   "outputs": [],
   "source": []
  },
  {
   "cell_type": "code",
   "execution_count": null,
   "metadata": {
    "id": "BtEj5yjg-m2C"
   },
   "outputs": [],
   "source": [
    "def update_confronto_direto(winner_team, loser_team, draw, confrontos_diretos):\n",
    "   if draw:\n",
    "      resultado = 'E'\n",
    "   else:\n",
    "      resultado = winner_team\n",
    "\n",
    "  # Registrar o resultado no dicionário\n",
    "   confrontos_diretos.setdefault(winner_team, {}).setdefault(loser_team, resultado)\n",
    "   confrontos_diretos.setdefault(loser_team, {}).setdefault(winner_team, resultado)\n",
    "   return confrontos_diretos\n",
    "\n",
    "def remover_confronto_direto(winner_team, loser_team, confrontos_diretos):\n",
    "  # Registrar o resultado no dicionário\n",
    "   confrontos_diretos.setdefault(winner_team, {}).setdefault(loser_team, '')\n",
    "   confrontos_diretos.setdefault(loser_team, {}).setdefault(winner_team, '')\n",
    "   return confrontos_diretos\n",
    "\n",
    "def gerar_confronto_direto(df_games):\n",
    "  confrontos_diretos = {}\n",
    "\n",
    "  # Iterar sobre os jogos e registrar os resultados dos confrontos diretos\n",
    "  for _, jogo in df_games.iterrows():\n",
    "      equipe_mandante = jogo['EQUIPE Mandante']\n",
    "      equipe_visitante = jogo['EQUIPE Visitante']\n",
    "      placar_mandante = jogo['GOLS_MANDANTE']\n",
    "      placar_visitante = jogo['GOLS_VISITANTE']\n",
    "\n",
    "      resultado = ''\n",
    "\n",
    "      if placar_mandante > placar_visitante:\n",
    "          resultado = equipe_mandante\n",
    "      elif placar_mandante < placar_visitante:\n",
    "          resultado = equipe_visitante\n",
    "      else:\n",
    "          resultado = 'E'\n",
    "\n",
    "      # Registrar o resultado no dicionário\n",
    "      confrontos_diretos.setdefault(equipe_mandante, {}).setdefault(equipe_visitante, resultado)\n",
    "      confrontos_diretos.setdefault(equipe_visitante, {}).setdefault(equipe_mandante, resultado)\n",
    "\n",
    "  return confrontos_diretos\n",
    "\n",
    "def confrontos_to_df(confrontos_diretos):\n",
    "  # Criar um DataFrame a partir dos resultados dos confrontos diretos\n",
    "  df_confrontos_diretos = pd.DataFrame(confrontos_diretos).T.fillna('').sort_index()\n",
    "  df_confrontos_diretos.index.name = 'Equipes'\n",
    "  return df_confrontos_diretos"
   ]
  },
  {
   "cell_type": "code",
   "execution_count": null,
   "metadata": {
    "id": "BQm_o95RGGjp"
   },
   "outputs": [],
   "source": []
  },
  {
   "cell_type": "code",
   "execution_count": null,
   "metadata": {
    "id": "YN1PkLsshltw"
   },
   "outputs": [],
   "source": []
  },
  {
   "cell_type": "code",
   "execution_count": null,
   "metadata": {
    "colab": {
     "base_uri": "https://localhost:8080/"
    },
    "id": "7Hbh5q4DGitN",
    "outputId": "ef5546a0-96d6-441d-ebb8-36930eda018a"
   },
   "outputs": [],
   "source": [
    "confrontos = gerar_confronto_direto(df_games)\n",
    "print(confrontos)"
   ]
  },
  {
   "cell_type": "markdown",
   "metadata": {
    "id": "tushaRPtf0Og"
   },
   "source": [
    "# Filtro com classificados"
   ]
  },
  {
   "cell_type": "code",
   "execution_count": null,
   "metadata": {
    "id": "Gr30VONE1bZl"
   },
   "outputs": [],
   "source": [
    "def atualizar_classificacao(group, df_confrontos_diretos):\n",
    "  if group == 'A':\n",
    "    df_group = df_groupA\n",
    "  elif group == 'B':\n",
    "    df_group = df_groupB\n",
    "\n",
    "  linhas_pontos_iguais = df_group[df_group.duplicated(subset='Pontos', keep=False)]\n",
    "\n",
    "  # Obter apenas os nomes das atléticas\n",
    "  atléticas_pontos_iguais = linhas_pontos_iguais['Atléticas'].tolist()\n",
    "  if len(atléticas_pontos_iguais) == 2:\n",
    "    team_ahead = df_confrontos_diretos.loc[atléticas_pontos_iguais[0], atléticas_pontos_iguais[1]]\n",
    "    atléticas_pontos_iguais.remove(team_ahead)\n",
    "\n",
    "    # Nome da atlética que você deseja trocar\n",
    "    team_behind = atléticas_pontos_iguais[0]\n",
    "\n",
    "    # Encontrar a posição da atlética no DataFrame\n",
    "    position_ahead = df_group.index[df_group['Atléticas'] == team_ahead].tolist()[0]\n",
    "    position_behind = df_group.index[df_group['Atléticas'] == team_behind].tolist()[0]\n",
    "\n",
    "    # Trocar os valores entre as linhas diretamente\n",
    "    df_group.loc[position_ahead], df_group.loc[position_behind] = df_group.loc[position_behind].copy(), df_group.loc[position_ahead].copy()\n",
    "\n",
    "  print(f\"Classificação grupo {group} atualizada com confrontos diretos:\")\n",
    "  print(df_group.sort_values(by='Pontos', ascending=False))"
   ]
  },
  {
   "cell_type": "markdown",
   "metadata": {
    "id": "oNeCdmBy1TNc"
   },
   "source": [
    "# Simulação"
   ]
  },
  {
   "cell_type": "code",
   "execution_count": null,
   "metadata": {
    "id": "UUTtgyNd1Rpd"
   },
   "outputs": [],
   "source": [
    "def atualizar_df_games(new_game_data):\n",
    "    global df_games\n",
    "    df_games = pd.concat([df_games, pd.DataFrame([new_game_data])], ignore_index=True)\n",
    "\n",
    "def remover_df_games(matches_to_remove, simulador=True):\n",
    "    # Obter os índices dos jogos a serem removidos\n",
    "    indices_to_remove = matches_to_remove.index\n",
    "\n",
    "    # Remover os jogos do DataFrame original\n",
    "    df_games.drop(indices_to_remove, inplace=True)\n",
    "\n",
    "# Simular o resultado do jogo (exemplo simples)\n",
    "def simular_jogo(group, home_team, home_goal, away_team, away_goal, confrontos_diretos):\n",
    "    \n",
    "    if listar_confrontos(home_team, away_team).empty == False:\n",
    "        print(\"Não posso substituir um jogo que já existe\")\n",
    "    else:\n",
    "        game = {\n",
    "            'GRUPO': group,\n",
    "            'EQUIPE Mandante': home_team,\n",
    "            'GOLS_MANDANTE': home_goal,\n",
    "            'EQUIPE Visitante': away_team,\n",
    "            'GOLS_VISITANTE': away_goal,\n",
    "            'PLACAR': str(home_goal) + 'x' + str(away_goal),\n",
    "            'SIMULADOR': 1\n",
    "        }\n",
    "\n",
    "        # Definir df por grupo\n",
    "        if group == 'A':\n",
    "          df_group = df_groupA\n",
    "        elif group == 'B':\n",
    "          df_group = df_groupB\n",
    "\n",
    "        condition_home = df_group['Atléticas'] == home_team\n",
    "        condition_away = df_group['Atléticas'] == away_team\n",
    "\n",
    "    # Atualizar o número de jogos\n",
    "        df_group.loc[condition_home, 'Jogos'] += 1\n",
    "        df_group.loc[condition_away, 'Jogos'] += 1\n",
    "\n",
    "    # Atualizar os gols\n",
    "        df_group.loc[condition_home, 'Gols Pró'] += home_goal\n",
    "        df_group.loc[condition_home, 'Gols Contra'] += away_goal\n",
    "\n",
    "        df_group.loc[condition_away, 'Gols Pró'] += away_goal\n",
    "        df_group.loc[condition_away, 'Gols Contra'] += home_goal\n",
    "\n",
    "        df_group.loc[condition_home, 'Saldo'] += home_goal - away_goal\n",
    "        df_group.loc[condition_away, 'Saldo'] += away_goal - home_goal\n",
    "\n",
    "    # Atualizar os pontos\n",
    "        if home_goal == away_goal:\n",
    "            df_group.loc[condition_home, 'Pontos'] += 1\n",
    "            df_group.loc[condition_away, 'Pontos'] += 1\n",
    "            df_group.loc[condition_home, 'E'] += 1\n",
    "            df_group.loc[condition_away, 'E'] += 1\n",
    "            update_confronto_direto(away_team, home_team, True, confrontos_diretos)\n",
    "        elif home_goal > away_goal:\n",
    "            df_group.loc[condition_home, 'Pontos'] += 3\n",
    "            df_group.loc[condition_home, 'V'] += 1\n",
    "            df_group.loc[condition_away, 'D'] += 1\n",
    "            update_confronto_direto(home_team, away_team, False, confrontos_diretos)\n",
    "        else:\n",
    "            df_group.loc[condition_away, 'Pontos'] += 3\n",
    "            df_group.loc[condition_away, 'V'] += 1\n",
    "            df_group.loc[condition_home, 'D'] += 1\n",
    "            update_confronto_direto(away_team, home_team, False, confrontos_diretos)\n",
    "\n",
    "        atualizar_df_games(game)\n",
    "        atualizar_classificacao(group, confrontos_to_df(confrontos_diretos))"
   ]
  },
  {
   "cell_type": "code",
   "execution_count": null,
   "metadata": {},
   "outputs": [],
   "source": []
  },
  {
   "cell_type": "code",
   "execution_count": null,
   "metadata": {
    "id": "xvBzVySr8v-m"
   },
   "outputs": [],
   "source": [
    "def remover_jogo(home_team, away_team, confrontos_diretos):\n",
    "\n",
    "    df_confronto = listar_confrontos(home_team, away_team)\n",
    "#   Se for jogo simulado  \n",
    "    if df_confronto['SIMULADOR'].tolist()[0]:\n",
    "        group = df_confronto['GRUPO'].values[0]\n",
    "\n",
    "        # Definir df por grupo\n",
    "        if group == 'A':\n",
    "            df_group = df_groupA\n",
    "        elif group == 'B':\n",
    "            df_group = df_groupB\n",
    "\n",
    "        home_team = df_confronto['EQUIPE Mandante'].tolist()[0]\n",
    "        away_team = df_confronto['EQUIPE Visitante'].tolist()[0]\n",
    "        home_goal = int(df_confronto['GOLS_MANDANTE'].tolist()[0])\n",
    "        away_goal = int(df_confronto['GOLS_VISITANTE'].tolist()[0])\n",
    "\n",
    "        condition_home = df_group['Atléticas'] == home_team\n",
    "        condition_away = df_group['Atléticas'] == away_team\n",
    "\n",
    "    # Atualizar o número de jogos\n",
    "        df_group.loc[condition_home, 'Jogos'] -= 1\n",
    "        df_group.loc[condition_away, 'Jogos'] -= 1\n",
    "\n",
    "    # Atualizar os gols\n",
    "        df_group.loc[condition_home, 'Gols Pró'] -= home_goal\n",
    "        df_group.loc[condition_home, 'Gols Contra'] -= away_goal\n",
    "\n",
    "        df_group.loc[condition_away, 'Gols Pró'] -= away_goal\n",
    "        df_group.loc[condition_away, 'Gols Contra'] -= home_goal\n",
    "\n",
    "        df_group.loc[condition_home, 'Saldo'] += home_goal - away_goal\n",
    "        df_group.loc[condition_away, 'Saldo'] += away_goal - home_goal\n",
    "\n",
    "    # Atualizar os pontos\n",
    "        if home_goal == away_goal:\n",
    "            df_group.loc[condition_home, 'Pontos'] -= 1\n",
    "            df_group.loc[condition_away, 'Pontos'] -= 1\n",
    "            df_group.loc[condition_home, 'E'] -= 1\n",
    "            df_group.loc[condition_away, 'E'] -= 1\n",
    "        elif home_goal > away_goal:\n",
    "            df_group.loc[condition_home, 'Pontos'] -= 3\n",
    "            df_group.loc[condition_home, 'V'] += 1\n",
    "            df_group.loc[condition_away, 'D'] += 1\n",
    "        else:\n",
    "            df_group.loc[condition_away, 'Pontos'] -= 3\n",
    "            df_group.loc[condition_away, 'V'] += 1\n",
    "            df_group.loc[condition_home, 'D'] += 1\n",
    "\n",
    "        remover_df_games(df_confronto)\n",
    "        remover_confronto_direto(home_team, away_team, confrontos_diretos)\n",
    "        atualizar_classificacao(group, confrontos_to_df(confrontos_diretos))\n",
    "    else:\n",
    "        print('Nenhum jogo simulado foi encontrado')"
   ]
  },
  {
   "cell_type": "code",
   "execution_count": null,
   "metadata": {
    "colab": {
     "base_uri": "https://localhost:8080/",
     "height": 321
    },
    "id": "sp5B3yC3Zs4D",
    "outputId": "639a709d-bee5-46fc-9f59-eff7b4376e90"
   },
   "outputs": [],
   "source": [
    "remover_df_games(listar_confrontos('FEA PUC', 'Federal do ABC'))"
   ]
  },
  {
   "cell_type": "code",
   "execution_count": null,
   "metadata": {},
   "outputs": [],
   "source": [
    "df_games"
   ]
  },
  {
   "cell_type": "code",
   "execution_count": null,
   "metadata": {
    "id": "dH6ruFa9Q5lQ"
   },
   "outputs": [],
   "source": [
    "simular_jogo('B', 'FEA PUC', 3, 'Federal do ABC', 1, confrontos)"
   ]
  },
  {
   "cell_type": "code",
   "execution_count": null,
   "metadata": {},
   "outputs": [],
   "source": [
    "df_games"
   ]
  },
  {
   "cell_type": "code",
   "execution_count": null,
   "metadata": {
    "colab": {
     "base_uri": "https://localhost:8080/"
    },
    "id": "ebm6AcCq3gpe",
    "outputId": "8d6abe21-32e5-44af-8835-00c739a6586d"
   },
   "outputs": [],
   "source": [
    "remover_jogo('FEA PUC', 'Federal do ABC', confrontos)"
   ]
  },
  {
   "cell_type": "code",
   "execution_count": null,
   "metadata": {
    "colab": {
     "base_uri": "https://localhost:8080/"
    },
    "id": "ESJ2fkbcWmMp",
    "outputId": "6991f595-86d1-473f-8205-42a0d1d2e4b3"
   },
   "outputs": [],
   "source": []
  },
  {
   "cell_type": "code",
   "execution_count": null,
   "metadata": {
    "scrolled": false
   },
   "outputs": [],
   "source": []
  },
  {
   "cell_type": "code",
   "execution_count": null,
   "metadata": {
    "colab": {
     "base_uri": "https://localhost:8080/",
     "height": 338
    },
    "id": "6EVncMVwYfup",
    "outputId": "e949636a-4f8a-4f8c-e9b1-f5c2f5d91fd5",
    "scrolled": true
   },
   "outputs": [],
   "source": []
  },
  {
   "cell_type": "code",
   "execution_count": null,
   "metadata": {
    "colab": {
     "base_uri": "https://localhost:8080/"
    },
    "id": "XA28rX6bf3ve",
    "outputId": "4ec63bf7-e9cf-49f8-fa57-5eb61171cc82"
   },
   "outputs": [],
   "source": [
    "listar_confrontos('FECAP', 'ESPM').empty"
   ]
  },
  {
   "cell_type": "code",
   "execution_count": null,
   "metadata": {},
   "outputs": [],
   "source": [
    "fea_axis = listar_confrontos('FEA PUC', 'Federal do ABC')\n",
    "fea_axis"
   ]
  },
  {
   "cell_type": "code",
   "execution_count": null,
   "metadata": {},
   "outputs": [],
   "source": []
  },
  {
   "cell_type": "code",
   "execution_count": null,
   "metadata": {},
   "outputs": [],
   "source": []
  },
  {
   "cell_type": "code",
   "execution_count": null,
   "metadata": {},
   "outputs": [],
   "source": [
    "df_groupB"
   ]
  },
  {
   "cell_type": "code",
   "execution_count": null,
   "metadata": {},
   "outputs": [],
   "source": []
  },
  {
   "cell_type": "code",
   "execution_count": null,
   "metadata": {},
   "outputs": [],
   "source": []
  },
  {
   "cell_type": "code",
   "execution_count": null,
   "metadata": {},
   "outputs": [],
   "source": []
  },
  {
   "cell_type": "code",
   "execution_count": null,
   "metadata": {},
   "outputs": [],
   "source": []
  }
 ],
 "metadata": {
  "colab": {
   "provenance": []
  },
  "kernelspec": {
   "display_name": "Python 3 (ipykernel)",
   "language": "python",
   "name": "python3"
  },
  "language_info": {
   "codemirror_mode": {
    "name": "ipython",
    "version": 3
   },
   "file_extension": ".py",
   "mimetype": "text/x-python",
   "name": "python",
   "nbconvert_exporter": "python",
   "pygments_lexer": "ipython3",
   "version": "3.11.5"
  }
 },
 "nbformat": 4,
 "nbformat_minor": 1
}
