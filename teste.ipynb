{
 "cells": [
  {
   "cell_type": "code",
   "execution_count": 1,
   "metadata": {},
   "outputs": [
    {
     "name": "stdout",
     "output_type": "stream",
     "text": [
      "files/\n",
      "files/FF\n",
      "files/FF/E\n",
      "files/FF/E/group\n",
      "files/FF/D\n",
      "files/FF/D/group\n",
      "files/FF/B\n",
      "files/FF/B/group\n",
      "files/FF/A\n",
      "files/FF/A/group\n",
      "files/FF/C\n",
      "files/FF/C/group\n",
      "files/FM\n",
      "files/FM/F\n",
      "files/FM/F/group\n",
      "files/FM/E\n",
      "files/FM/E/group\n",
      "files/FM/D\n",
      "files/FM/D/group\n",
      "files/FM/B\n",
      "files/FM/B/group\n",
      "files/FM/A\n",
      "files/FM/A/group\n",
      "files/FM/C\n",
      "files/FM/C/group\n",
      "['files/FF/E/games.json', 'files/FF/D/games.json', 'files/FF/B/games.json', 'files/FF/A/games.json', 'files/FF/C/games.json', 'files/FM/F/games.json', 'files/FM/E/games.json', 'files/FM/D/games.json', 'files/FM/B/games.json', 'files/FM/A/games.json', 'files/FM/C/games.json']\n"
     ]
    }
   ],
   "source": [
    "import os\n",
    "\n",
    "# Diretório base onde estão os subdiretórios\n",
    "base_dir = \"files/\"\n",
    "\n",
    "# Lista para armazenar os caminhos dos arquivos\n",
    "palestra_files = []\n",
    "\n",
    "# Percorre todos os subdiretórios no diretório base\n",
    "for subdir, _, _ in os.walk(base_dir):\n",
    "    print(subdir)\n",
    "    # Verifica se há um arquivo 'games.json' no diretório atual\n",
    "    game_file = os.path.join(subdir, 'games.json')\n",
    "    if os.path.exists(game_file):\n",
    "        # Adiciona o caminho do arquivo à lista\n",
    "        palestra_files.append(game_file)\n",
    "\n",
    "# Exibe a lista de arquivos 'games.json' encontrados\n",
    "print(palestra_files)\n"
   ]
  },
  {
   "cell_type": "code",
   "execution_count": 3,
   "metadata": {},
   "outputs": [],
   "source": [
    "import json\n",
    "\n",
    "def load_json_data(filepath_json):\n",
    "    # Carregar o conteúdo do arquivo JSON\n",
    "    with open(filepath_json, 'r', encoding='utf-8') as file:\n",
    "        return json.load(file)\n",
    "\n",
    "def create_json(data, filename):\n",
    "    # Gravar os dados em um arquivo JSON\n",
    "    with open(filename, 'w', encoding='utf-8') as outfile:\n",
    "        json.dump(data, outfile, indent=4, ensure_ascii=False)\n",
    "\n",
    "def generate_all_games(list_files):\n",
    "    # Carregar os dados de todos os arquivos JSON\n",
    "    all_data = []\n",
    "    for file in list_files:\n",
    "        modality = file.replace('files/', '').replace('/games.json', '')\n",
    "        all_data.append(\n",
    "            {\n",
    "                'modality': modality,\n",
    "                'data': load_json_data(file)\n",
    "            }\n",
    "            )\n",
    "\n",
    "    # Criar um arquivo JSON com todos os dados combinados\n",
    "    create_json(all_data, 'all_games.json')\n",
    "\n",
    "# Exemplo de uso\n",
    "generate_all_games(palestra_files)\n"
   ]
  },
  {
   "cell_type": "code",
   "execution_count": 4,
   "metadata": {},
   "outputs": [],
   "source": [
    "def filter_by_day_and_local(day, local):\n",
    "    data = load_json_data('all_games.json')\n",
    "    filtered_data = [\n",
    "        {\n",
    "            \"modality\": item[\"modality\"],\n",
    "            \"data\": [game for game in item[\"data\"] if game[\"DIA\"] == day and game[\"LOCAL\"] == local]\n",
    "        }\n",
    "        for item in data\n",
    "    ]\n",
    "    return filtered_data"
   ]
  },
  {
   "cell_type": "code",
   "execution_count": 5,
   "metadata": {},
   "outputs": [
    {
     "name": "stdout",
     "output_type": "stream",
     "text": [
      "[{'modality': 'FF/E', 'data': [{'DIA': '2024-02-24', 'HORARIO': '09h50min', 'LOCAL': 'Palestra', 'GRUPO': 'A', 'Mandante': 'Direito FMU', 'PLACAR': 'X', 'Visitante': 'Medicina Bragança', 'GOLS_MANDANTE': '', 'GOLS_VISITANTE': '', 'SIMULADOR': 'False'}, {'DIA': '2024-02-24', 'HORARIO': '11h10min', 'LOCAL': 'Palestra', 'GRUPO': 'B', 'Mandante': 'Comunicação Mackenzie', 'PLACAR': 'X', 'Visitante': 'Medicina UNESP Botucatu', 'GOLS_MANDANTE': '', 'GOLS_VISITANTE': '', 'SIMULADOR': 'False'}, {'DIA': '2024-02-24', 'HORARIO': '12h30min', 'LOCAL': 'Palestra', 'GRUPO': 'B', 'Mandante': 'Cásper Líbero', 'PLACAR': 'X', 'Visitante': 'Medicina Bela Vista', 'GOLS_MANDANTE': '', 'GOLS_VISITANTE': '', 'SIMULADOR': 'False'}]}, {'modality': 'FF/D', 'data': []}, {'modality': 'FF/B', 'data': []}, {'modality': 'FF/A', 'data': []}, {'modality': 'FF/C', 'data': []}, {'modality': 'FM/F', 'data': [{'DIA': '2024-02-24', 'HORARIO': '08h30min', 'LOCAL': 'Palestra', 'GRUPO': 'A', 'Mandante': 'Educação Física UNINOVE', 'PLACAR': 'X', 'Visitante': 'FAAP', 'GOLS_MANDANTE': '', 'GOLS_VISITANTE': '', 'SIMULADOR': 'False'}, {'DIA': '2024-02-24', 'HORARIO': '13h50min', 'LOCAL': 'Palestra', 'GRUPO': 'B', 'Mandante': 'Medicina MANDIC', 'PLACAR': 'X', 'Visitante': 'Direito UNICID', 'GOLS_MANDANTE': '', 'GOLS_VISITANTE': '', 'SIMULADOR': 'False'}, {'DIA': '2024-02-24', 'HORARIO': '15h10min', 'LOCAL': 'Palestra', 'GRUPO': 'B', 'Mandante': 'RI PUC', 'PLACAR': 'X', 'Visitante': 'Psicologia da PUC SP', 'GOLS_MANDANTE': '', 'GOLS_VISITANTE': '', 'SIMULADOR': 'False'}]}, {'modality': 'FM/E', 'data': [{'DIA': '2024-02-24', 'HORARIO': '16h30min', 'LOCAL': 'Palestra', 'GRUPO': 'B', 'Mandante': 'Medicina São Caetano', 'PLACAR': 'X', 'Visitante': 'Medicina UNICID', 'GOLS_MANDANTE': '', 'GOLS_VISITANTE': '', 'SIMULADOR': 'False'}]}, {'modality': 'FM/D', 'data': [{'DIA': '2024-02-24', 'HORARIO': '17h50min', 'LOCAL': 'Palestra', 'GRUPO': 'A', 'Mandante': 'Medicina UNIMES', 'PLACAR': 'X', 'Visitante': 'Medicina Anhembi', 'GOLS_MANDANTE': '', 'GOLS_VISITANTE': '', 'SIMULADOR': 'False'}, {'DIA': '2024-02-24', 'HORARIO': '19h10min', 'LOCAL': 'Palestra', 'GRUPO': 'B', 'Mandante': 'Direito FMU', 'PLACAR': 'X', 'Visitante': 'Medicina Santo Amaro', 'GOLS_MANDANTE': '', 'GOLS_VISITANTE': '', 'SIMULADOR': 'False'}, {'DIA': '2024-02-24', 'HORARIO': '20h30min', 'LOCAL': 'Palestra', 'GRUPO': 'B', 'Mandante': 'IBMEC SP', 'PLACAR': 'X', 'Visitante': 'IME USP', 'GOLS_MANDANTE': '', 'GOLS_VISITANTE': '', 'SIMULADOR': 'False'}]}, {'modality': 'FM/B', 'data': []}, {'modality': 'FM/A', 'data': []}, {'modality': 'FM/C', 'data': []}]\n"
     ]
    }
   ],
   "source": [
    "print(filter_by_day_and_local(\"2024-02-24\", \"Palestra\"))"
   ]
  },
  {
   "cell_type": "code",
   "execution_count": 1,
   "metadata": {},
   "outputs": [],
   "source": [
    "import logging\n",
    "import inspect\n",
    "import datetime\n",
    "\n",
    "# Função para configurar o logger\n",
    "def configurar_logger():\n",
    "    # Obtendo a data e hora atual\n",
    "    data_hora_atual = datetime.datetime.now()\n",
    "    \n",
    "    # Formatando a data e hora para incluir no nome do arquivo de log\n",
    "    nome_arquivo_log = 'meu_arquivo_de_log_' + data_hora_atual.strftime(\"%Y-%m-%d_%H-%M-%S\") + '.log'\n",
    "    \n",
    "    # Configuração básica de logging\n",
    "    logging.basicConfig(filename=nome_arquivo_log, level=logging.INFO, format='%(asctime)s - %(levelname)s - %(funcName)s - %(message)s')\n",
    "\n",
    "# Função para registrar uma mensagem de log\n",
    "def registrar_log(mensagem):\n",
    "    # Obtendo informações sobre a pilha de chamadas\n",
    "    pilha_de_chamadas = inspect.stack()\n",
    "    nome_funcao_chamadora = pilha_de_chamadas[1].function\n",
    "    \n",
    "    # Usando o logger para registrar a mensagem\n",
    "    logging.info(f'{nome_funcao_chamadora}: {mensagem}')\n",
    "\n",
    "# Exemplo de uso\n",
    "def minha_funcao():\n",
    "    registrar_log('Esta é uma mensagem de log dentro de minha_funcao.')\n",
    "\n",
    "# Configurar o logger\n",
    "configurar_logger()\n",
    "\n",
    "# Chamar a função que registrará a mensagem de log\n",
    "minha_funcao()\n"
   ]
  },
  {
   "cell_type": "code",
   "execution_count": 4,
   "metadata": {},
   "outputs": [],
   "source": [
    "def format_tb_group(tb_group):\n",
    "    print('list(tb_group.columns)', list(tb_group.columns))\n",
    "    if list(tb_group.columns) != ['Grupo A', 'Grupo B']:\n",
    "        # Definir a primeira linha como cabeçalho da tabela\n",
    "        tb_group.columns = tb_group.iloc[0]\n",
    "        # Remover a primeira linha, que agora é o cabeçalho\n",
    "        return tb_group[1:]\n",
    "    return tb_group"
   ]
  },
  {
   "cell_type": "code",
   "execution_count": 5,
   "metadata": {},
   "outputs": [
    {
     "name": "stdout",
     "output_type": "stream",
     "text": [
      "list(tb_group.columns) ['Grupo A', 'Grupo B']\n"
     ]
    }
   ],
   "source": [
    "import tabula\n",
    "tables = tabula.read_pdf(\"files/Boletim.pdf\", pages=\"42-43\")\n",
    "tb_group = format_tb_group(tables[0])"
   ]
  },
  {
   "cell_type": "code",
   "execution_count": null,
   "metadata": {},
   "outputs": [],
   "source": []
  }
 ],
 "metadata": {
  "kernelspec": {
   "display_name": "meuambiente",
   "language": "python",
   "name": "python3"
  },
  "language_info": {
   "codemirror_mode": {
    "name": "ipython",
    "version": 3
   },
   "file_extension": ".py",
   "mimetype": "text/x-python",
   "name": "python",
   "nbconvert_exporter": "python",
   "pygments_lexer": "ipython3",
   "version": "3.8.18"
  }
 },
 "nbformat": 4,
 "nbformat_minor": 2
}
